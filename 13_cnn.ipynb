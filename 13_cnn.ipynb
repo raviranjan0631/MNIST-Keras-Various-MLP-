{
  "nbformat": 4,
  "nbformat_minor": 0,
  "metadata": {
    "colab": {
      "name": "13 cnn.ipynb",
      "version": "0.3.2",
      "provenance": [],
      "collapsed_sections": []
    },
    "kernelspec": {
      "name": "python3",
      "display_name": "Python 3"
    },
    "accelerator": "GPU"
  },
  "cells": [
    {
      "metadata": {
        "id": "xKDPPyxula6U",
        "colab_type": "code",
        "outputId": "e864cbcf-2af3-451b-f6eb-da2c21484e51",
        "colab": {
          "base_uri": "https://localhost:8080/",
          "height": 35
        }
      },
      "cell_type": "code",
      "source": [
        "import tensorflow as tf\n",
        "device_name = tf.test.gpu_device_name()\n",
        "if device_name != '/device:GPU:0':\n",
        "  raise SystemError('GPU device not found')\n",
        "print('Found GPU at: {}'.format(device_name))"
      ],
      "execution_count": 0,
      "outputs": [
        {
          "output_type": "stream",
          "text": [
            "Found GPU at: /device:GPU:0\n"
          ],
          "name": "stdout"
        }
      ]
    },
    {
      "metadata": {
        "id": "m8gIufJ2ljND",
        "colab_type": "code",
        "outputId": "dba7720d-0323-44bd-82d5-de0c6666f5a3",
        "colab": {
          "base_uri": "https://localhost:8080/",
          "height": 105
        }
      },
      "cell_type": "code",
      "source": [
        "!pip install prettytable\n",
        "from prettytable import PrettyTable\n",
        "tableData = PrettyTable()\n",
        "\n",
        "tableData.field_names = [\"Layers\", \"Con2d\", \"Accuracy\"]\n",
        "print(tableData)"
      ],
      "execution_count": 0,
      "outputs": [
        {
          "output_type": "stream",
          "text": [
            "Requirement already satisfied: prettytable in /usr/local/lib/python3.6/dist-packages (0.7.2)\n",
            "+--------+-------+----------+\n",
            "| Layers | Con2d | Accuracy |\n",
            "+--------+-------+----------+\n",
            "+--------+-------+----------+\n"
          ],
          "name": "stdout"
        }
      ]
    },
    {
      "metadata": {
        "id": "HvG3xpUPh33D",
        "colab_type": "code",
        "outputId": "9a017ee7-961f-4547-e900-b70b7b50be91",
        "colab": {
          "base_uri": "https://localhost:8080/",
          "height": 70
        }
      },
      "cell_type": "code",
      "source": [
        "# Credits: https://github.com/keras-team/keras/blob/master/examples/mnist_cnn.py\n",
        "\n",
        "\n",
        "from __future__ import print_function\n",
        "import keras\n",
        "from keras.datasets import mnist\n",
        "from keras.models import Sequential\n",
        "from keras.layers import Dense, Dropout, Flatten\n",
        "from keras.layers import Conv2D, MaxPooling2D\n",
        "from keras import backend as K\n",
        "\n",
        "batch_size = 128\n",
        "num_classes = 10\n",
        "epochs = 12\n",
        "\n",
        "# input image dimensions\n",
        "img_rows, img_cols = 28, 28\n",
        "\n",
        "# the data, split between train and test sets\n",
        "(x_train, y_train), (x_test, y_test) = mnist.load_data()\n",
        "\n",
        "if K.image_data_format() == 'channels_first':\n",
        "    x_train = x_train.reshape(x_train.shape[0], 1, img_rows, img_cols)\n",
        "    x_test = x_test.reshape(x_test.shape[0], 1, img_rows, img_cols)\n",
        "    input_shape = (1, img_rows, img_cols)\n",
        "else:\n",
        "    x_train = x_train.reshape(x_train.shape[0], img_rows, img_cols, 1)\n",
        "    x_test = x_test.reshape(x_test.shape[0], img_rows, img_cols, 1)\n",
        "    input_shape = (img_rows, img_cols, 1)\n",
        "\n",
        "x_train = x_train.astype('float32')\n",
        "x_test = x_test.astype('float32')\n",
        "x_train /= 255\n",
        "x_test /= 255\n",
        "print('x_train shape:', x_train.shape)\n",
        "print(x_train.shape[0], 'train samples')\n",
        "print(x_test.shape[0], 'test samples')\n",
        "\n",
        "# convert class vectors to binary class matrices\n",
        "y_train = keras.utils.to_categorical(y_train, num_classes)\n",
        "y_test = keras.utils.to_categorical(y_test, num_classes)\n"
      ],
      "execution_count": 0,
      "outputs": [
        {
          "output_type": "stream",
          "text": [
            "x_train shape: (60000, 28, 28, 1)\n",
            "60000 train samples\n",
            "10000 test samples\n"
          ],
          "name": "stdout"
        }
      ]
    },
    {
      "metadata": {
        "id": "kDQi27BFn9Gu",
        "colab_type": "text"
      },
      "cell_type": "markdown",
      "source": [
        "# 3 layer with 3, 3 con2d"
      ]
    },
    {
      "metadata": {
        "id": "ZjvrXmgznHvg",
        "colab_type": "code",
        "outputId": "05ccb500-9df2-4da5-ab17-1eb9446e2811",
        "colab": {
          "base_uri": "https://localhost:8080/",
          "height": 503
        }
      },
      "cell_type": "code",
      "source": [
        "\n",
        "model = Sequential()\n",
        "model.add(Conv2D(32, kernel_size=(3, 3),\n",
        "                 activation='relu',\n",
        "                 input_shape=input_shape))\n",
        "\n",
        "model.add(Conv2D(64, (3, 3), activation='relu'))\n",
        "model.add(MaxPooling2D(pool_size=(2, 2)))\n",
        "\n",
        "model.add(Conv2D(64, (3, 3), activation='relu'))\n",
        "model.add(MaxPooling2D(pool_size=(2, 2)))\n",
        "\n",
        "model.add(Dropout(0.25))\n",
        "model.add(Flatten())\n",
        "\n",
        "model.add(Dense(128, activation='relu'))\n",
        "model.add(Dropout(0.5))\n",
        "\n",
        "model.add(Dense(num_classes, activation='softmax'))\n",
        "model.summary()"
      ],
      "execution_count": 0,
      "outputs": [
        {
          "output_type": "stream",
          "text": [
            "_________________________________________________________________\n",
            "Layer (type)                 Output Shape              Param #   \n",
            "=================================================================\n",
            "conv2d_7 (Conv2D)            (None, 26, 26, 32)        320       \n",
            "_________________________________________________________________\n",
            "conv2d_8 (Conv2D)            (None, 24, 24, 64)        18496     \n",
            "_________________________________________________________________\n",
            "max_pooling2d_4 (MaxPooling2 (None, 12, 12, 64)        0         \n",
            "_________________________________________________________________\n",
            "conv2d_9 (Conv2D)            (None, 10, 10, 64)        36928     \n",
            "_________________________________________________________________\n",
            "max_pooling2d_5 (MaxPooling2 (None, 5, 5, 64)          0         \n",
            "_________________________________________________________________\n",
            "dropout_7 (Dropout)          (None, 5, 5, 64)          0         \n",
            "_________________________________________________________________\n",
            "flatten_4 (Flatten)          (None, 1600)              0         \n",
            "_________________________________________________________________\n",
            "dense_7 (Dense)              (None, 128)               204928    \n",
            "_________________________________________________________________\n",
            "dropout_8 (Dropout)          (None, 128)               0         \n",
            "_________________________________________________________________\n",
            "dense_8 (Dense)              (None, 10)                1290      \n",
            "=================================================================\n",
            "Total params: 261,962\n",
            "Trainable params: 261,962\n",
            "Non-trainable params: 0\n",
            "_________________________________________________________________\n"
          ],
          "name": "stdout"
        }
      ]
    },
    {
      "metadata": {
        "id": "ODgIkygsnSpD",
        "colab_type": "code",
        "outputId": "e141d95f-a9fb-4cfa-805d-f851365d5608",
        "colab": {
          "base_uri": "https://localhost:8080/",
          "height": 487
        }
      },
      "cell_type": "code",
      "source": [
        "\n",
        "model.compile(loss=keras.losses.categorical_crossentropy,\n",
        "              optimizer=keras.optimizers.Adadelta(),\n",
        "              metrics=['accuracy'])\n",
        "\n",
        "history = model.fit(x_train, y_train,\n",
        "          batch_size=batch_size,\n",
        "          epochs=epochs,\n",
        "          verbose=1,\n",
        "          validation_data=(x_test, y_test))"
      ],
      "execution_count": 0,
      "outputs": [
        {
          "output_type": "stream",
          "text": [
            "Train on 60000 samples, validate on 10000 samples\n",
            "Epoch 1/12\n",
            "60000/60000 [==============================] - 10s 160us/step - loss: 0.2757 - acc: 0.9125 - val_loss: 0.0505 - val_acc: 0.9840\n",
            "Epoch 2/12\n",
            "60000/60000 [==============================] - 9s 150us/step - loss: 0.0833 - acc: 0.9744 - val_loss: 0.0321 - val_acc: 0.9888\n",
            "Epoch 3/12\n",
            "60000/60000 [==============================] - 9s 151us/step - loss: 0.0663 - acc: 0.9802 - val_loss: 0.0311 - val_acc: 0.9897\n",
            "Epoch 4/12\n",
            "60000/60000 [==============================] - 9s 151us/step - loss: 0.0533 - acc: 0.9843 - val_loss: 0.0315 - val_acc: 0.9884\n",
            "Epoch 5/12\n",
            "60000/60000 [==============================] - 9s 149us/step - loss: 0.0452 - acc: 0.9867 - val_loss: 0.0224 - val_acc: 0.9923\n",
            "Epoch 6/12\n",
            "60000/60000 [==============================] - 9s 148us/step - loss: 0.0416 - acc: 0.9874 - val_loss: 0.0246 - val_acc: 0.9917\n",
            "Epoch 7/12\n",
            "60000/60000 [==============================] - 9s 148us/step - loss: 0.0395 - acc: 0.9885 - val_loss: 0.0237 - val_acc: 0.9927\n",
            "Epoch 8/12\n",
            "60000/60000 [==============================] - 9s 148us/step - loss: 0.0343 - acc: 0.9897 - val_loss: 0.0191 - val_acc: 0.9939\n",
            "Epoch 9/12\n",
            "60000/60000 [==============================] - 9s 148us/step - loss: 0.0306 - acc: 0.9906 - val_loss: 0.0189 - val_acc: 0.9942\n",
            "Epoch 10/12\n",
            "60000/60000 [==============================] - 9s 149us/step - loss: 0.0292 - acc: 0.9911 - val_loss: 0.0184 - val_acc: 0.9951\n",
            "Epoch 11/12\n",
            "60000/60000 [==============================] - 9s 151us/step - loss: 0.0269 - acc: 0.9921 - val_loss: 0.0182 - val_acc: 0.9945\n",
            "Epoch 12/12\n",
            "60000/60000 [==============================] - 9s 152us/step - loss: 0.0258 - acc: 0.9920 - val_loss: 0.0174 - val_acc: 0.9952\n"
          ],
          "name": "stdout"
        }
      ]
    },
    {
      "metadata": {
        "id": "cWfcqD2Bo9Om",
        "colab_type": "code",
        "outputId": "344138d1-9222-4c34-d96e-df5d03aea588",
        "colab": {
          "base_uri": "https://localhost:8080/",
          "height": 397
        }
      },
      "cell_type": "code",
      "source": [
        "import matplotlib.pyplot as plt\n",
        "\n",
        "score = model.evaluate(x_test, y_test, verbose=0)\n",
        "print('Test loss:', score[0])\n",
        "print('Test accuracy:', score[1])\n",
        "\n",
        "x = list(range(1,epochs+1))\n",
        "vy = history.history['val_loss']\n",
        "ty = history.history['loss']\n",
        "\n",
        "plt.plot(x, ty, 'b', label= 'Train loss')\n",
        "plt.plot(x, vy, 'r', label= 'Val loss')\n",
        "plt.legend()\n",
        "plt.xlabel(\"Number Of Epochs\")\n",
        "plt.ylabel(\"Categorical Cross  Entrophy loss\")\n",
        "plt.show()\n"
      ],
      "execution_count": 0,
      "outputs": [
        {
          "output_type": "stream",
          "text": [
            "Test loss: 0.017361374408018673\n",
            "Test accuracy: 0.9952\n"
          ],
          "name": "stdout"
        },
        {
          "output_type": "display_data",
          "data": {
            "image/png": "[encoded data removed]",
            "text/plain": [
              "<Figure size 576x396 with 1 Axes>"
            ]
          },
          "metadata": {
            "tags": []
          }
        }
      ]
    },
    {
      "metadata": {
        "id": "qlSTnikI0EKX",
        "colab_type": "code",
        "colab": {}
      },
      "cell_type": "code",
      "source": [
        "tableData.add_row([\"3\", \"(3,3)\", score[1]])"
      ],
      "execution_count": 0,
      "outputs": []
    },
    {
      "metadata": {
        "id": "c1RpbRB9pfko",
        "colab_type": "text"
      },
      "cell_type": "markdown",
      "source": [
        "# 5 layer with 5,5 con2d"
      ]
    },
    {
      "metadata": {
        "id": "KTZmY5EpkYdg",
        "colab_type": "code",
        "outputId": "49d92a4a-86c9-42dc-afd8-2ec06601e3e8",
        "colab": {
          "base_uri": "https://localhost:8080/",
          "height": 702
        }
      },
      "cell_type": "code",
      "source": [
        "\n",
        "model1 = Sequential()\n",
        "model1.add(Conv2D(32, kernel_size=(5, 5),\n",
        "                 activation='relu',\n",
        "                 input_shape=input_shape, border_mode = \"same\"))\n",
        "\n",
        "model1.add(Conv2D(64, (5, 5), activation='relu'))\n",
        "model1.add(MaxPooling2D(pool_size=(2, 2)))\n",
        "\n",
        "\n",
        "model1.add(Conv2D(64, (5, 5), activation='relu', border_mode = \"same\"))\n",
        "model1.add(Dropout(0.25))\n",
        "\n",
        "\n",
        "model1.add(Conv2D(128, (5, 5), activation='relu', border_mode = \"same\"))\n",
        "model1.add(MaxPooling2D(pool_size=(2, 2)))\n",
        "\n",
        "model1.add(Conv2D(64, (5, 5), activation='relu', border_mode = \"same\"))\n",
        "\n",
        "\n",
        "model1.add(Flatten())\n",
        "model1.add(Dense(128, activation='relu'))\n",
        "model1.add(Dropout(0.5))\n",
        "model1.add(Dense(num_classes, activation='softmax'))\n",
        "model1.summary()"
      ],
      "execution_count": 0,
      "outputs": [
        {
          "output_type": "stream",
          "text": [
            "_________________________________________________________________\n",
            "Layer (type)                 Output Shape              Param #   \n",
            "=================================================================\n",
            "conv2d_63 (Conv2D)           (None, 28, 28, 32)        832       \n",
            "_________________________________________________________________\n",
            "conv2d_64 (Conv2D)           (None, 24, 24, 64)        51264     \n",
            "_________________________________________________________________\n",
            "max_pooling2d_29 (MaxPooling (None, 12, 12, 64)        0         \n",
            "_________________________________________________________________\n",
            "conv2d_65 (Conv2D)           (None, 12, 12, 64)        102464    \n",
            "_________________________________________________________________\n",
            "dropout_21 (Dropout)         (None, 12, 12, 64)        0         \n",
            "_________________________________________________________________\n",
            "conv2d_66 (Conv2D)           (None, 12, 12, 128)       204928    \n",
            "_________________________________________________________________\n",
            "max_pooling2d_30 (MaxPooling (None, 6, 6, 128)         0         \n",
            "_________________________________________________________________\n",
            "conv2d_67 (Conv2D)           (None, 6, 6, 64)          204864    \n",
            "_________________________________________________________________\n",
            "flatten_11 (Flatten)         (None, 2304)              0         \n",
            "_________________________________________________________________\n",
            "dense_21 (Dense)             (None, 128)               295040    \n",
            "_________________________________________________________________\n",
            "dropout_22 (Dropout)         (None, 128)               0         \n",
            "_________________________________________________________________\n",
            "dense_22 (Dense)             (None, 10)                1290      \n",
            "=================================================================\n",
            "Total params: 860,682\n",
            "Trainable params: 860,682\n",
            "Non-trainable params: 0\n",
            "_________________________________________________________________\n"
          ],
          "name": "stdout"
        },
        {
          "output_type": "stream",
          "text": [
            "/usr/local/lib/python3.6/dist-packages/ipykernel_launcher.py:5: UserWarning: Update your `Conv2D` call to the Keras 2 API: `Conv2D(32, kernel_size=(5, 5), activation=\"relu\", input_shape=(28, 28, 1..., padding=\"same\")`\n",
            "  \"\"\"\n",
            "/usr/local/lib/python3.6/dist-packages/ipykernel_launcher.py:11: UserWarning: Update your `Conv2D` call to the Keras 2 API: `Conv2D(64, (5, 5), activation=\"relu\", padding=\"same\")`\n",
            "  # This is added back by InteractiveShellApp.init_path()\n",
            "/usr/local/lib/python3.6/dist-packages/ipykernel_launcher.py:15: UserWarning: Update your `Conv2D` call to the Keras 2 API: `Conv2D(128, (5, 5), activation=\"relu\", padding=\"same\")`\n",
            "  from ipykernel import kernelapp as app\n",
            "/usr/local/lib/python3.6/dist-packages/ipykernel_launcher.py:18: UserWarning: Update your `Conv2D` call to the Keras 2 API: `Conv2D(64, (5, 5), activation=\"relu\", padding=\"same\")`\n"
          ],
          "name": "stderr"
        }
      ]
    },
    {
      "metadata": {
        "id": "qWKCzWshqR3L",
        "colab_type": "code",
        "outputId": "6c47578f-6beb-4186-f38e-b16a5f2a82ba",
        "colab": {
          "base_uri": "https://localhost:8080/",
          "height": 455
        }
      },
      "cell_type": "code",
      "source": [
        "\n",
        "model1.compile(loss=keras.losses.categorical_crossentropy,\n",
        "              optimizer=keras.optimizers.Adadelta(),\n",
        "              metrics=['accuracy'])\n",
        "\n",
        "history = model1.fit(x_train, y_train,\n",
        "          batch_size=batch_size,\n",
        "          epochs=epochs,\n",
        "          verbose=1,\n",
        "          validation_data=(x_test, y_test))"
      ],
      "execution_count": 0,
      "outputs": [
        {
          "output_type": "stream",
          "text": [
            "Train on 60000 samples, validate on 10000 samples\n",
            "Epoch 1/12\n",
            "60000/60000 [==============================] - 17s 281us/step - loss: 0.2732 - acc: 0.9146 - val_loss: 0.0417 - val_acc: 0.9869\n",
            "Epoch 2/12\n",
            "60000/60000 [==============================] - 15s 252us/step - loss: 0.0581 - acc: 0.9838 - val_loss: 0.0316 - val_acc: 0.9896\n",
            "Epoch 3/12\n",
            "60000/60000 [==============================] - 15s 253us/step - loss: 0.0367 - acc: 0.9896 - val_loss: 0.0219 - val_acc: 0.9933\n",
            "Epoch 4/12\n",
            "60000/60000 [==============================] - 15s 256us/step - loss: 0.0286 - acc: 0.9922 - val_loss: 0.0220 - val_acc: 0.9928\n",
            "Epoch 5/12\n",
            "60000/60000 [==============================] - 15s 257us/step - loss: 0.0211 - acc: 0.9940 - val_loss: 0.0263 - val_acc: 0.9921\n",
            "Epoch 6/12\n",
            "60000/60000 [==============================] - 15s 255us/step - loss: 0.0174 - acc: 0.9952 - val_loss: 0.0203 - val_acc: 0.9944\n",
            "Epoch 7/12\n",
            "60000/60000 [==============================] - 15s 255us/step - loss: 0.0144 - acc: 0.9958 - val_loss: 0.0175 - val_acc: 0.9943\n",
            "Epoch 8/12\n",
            "60000/60000 [==============================] - 15s 256us/step - loss: 0.0124 - acc: 0.9962 - val_loss: 0.0189 - val_acc: 0.9952\n",
            "Epoch 9/12\n",
            "60000/60000 [==============================] - 15s 256us/step - loss: 0.0097 - acc: 0.9973 - val_loss: 0.0230 - val_acc: 0.9937\n",
            "Epoch 10/12\n",
            "60000/60000 [==============================] - 15s 255us/step - loss: 0.0082 - acc: 0.9977 - val_loss: 0.0256 - val_acc: 0.9941\n",
            "Epoch 11/12\n",
            "60000/60000 [==============================] - 15s 253us/step - loss: 0.0084 - acc: 0.9975 - val_loss: 0.0195 - val_acc: 0.9953\n",
            "Epoch 12/12\n",
            "60000/60000 [==============================] - 15s 254us/step - loss: 0.0060 - acc: 0.9981 - val_loss: 0.0226 - val_acc: 0.9953\n"
          ],
          "name": "stdout"
        }
      ]
    },
    {
      "metadata": {
        "id": "0211az7rqmeT",
        "colab_type": "code",
        "outputId": "821258d2-2f98-4c09-e4d9-f4cdc2ee637a",
        "colab": {
          "base_uri": "https://localhost:8080/",
          "height": 396
        }
      },
      "cell_type": "code",
      "source": [
        "\n",
        "score = model1.evaluate(x_test, y_test, verbose=0)\n",
        "print('Test loss:', score[0])\n",
        "print('Test accuracy:', score[1])\n",
        "\n",
        "x = list(range(1,epochs+1))\n",
        "vy = history.history['val_loss']\n",
        "ty = history.history['loss']\n",
        "\n",
        "plt.plot(x, ty, 'b', label= 'Train loss')\n",
        "plt.plot(x, vy, 'r', label= 'Val loss')\n",
        "plt.legend()\n",
        "plt.xlabel(\"Number Of Epochs\")\n",
        "plt.ylabel(\"Categorical Cross  Entrophy loss\")\n",
        "plt.show()\n"
      ],
      "execution_count": 0,
      "outputs": [
        {
          "output_type": "stream",
          "text": [
            "Test loss: 0.022608617243843446\n",
            "Test accuracy: 0.9953\n"
          ],
          "name": "stdout"
        },
        {
          "output_type": "display_data",
          "data": {
            "image/png": "[encoded data removed]",
            "text/plain": [
              "<Figure size 576x396 with 1 Axes>"
            ]
          },
          "metadata": {
            "tags": []
          }
        }
      ]
    },
    {
      "metadata": {
        "id": "nh0jGyFu08AM",
        "colab_type": "code",
        "colab": {}
      },
      "cell_type": "code",
      "source": [
        "tableData.add_row([\"5\", \"(5,5)\", score[1]])"
      ],
      "execution_count": 0,
      "outputs": []
    },
    {
      "metadata": {
        "id": "VfHfMtfpzyeN",
        "colab_type": "text"
      },
      "cell_type": "markdown",
      "source": [
        "# 7 layer with 7,7 conv2d"
      ]
    },
    {
      "metadata": {
        "id": "wRWeBrH_yBpS",
        "colab_type": "code",
        "outputId": "e96506c0-c9eb-4606-918f-fd6b55899170",
        "colab": {
          "base_uri": "https://localhost:8080/",
          "height": 772
        }
      },
      "cell_type": "code",
      "source": [
        "\n",
        "model2 = Sequential()\n",
        "model2.add(Conv2D(32, kernel_size=(7, 7),\n",
        "                 activation='relu',\n",
        "                 input_shape=input_shape, border_mode = \"same\"))\n",
        "\n",
        "model2.add(Conv2D(64, (7, 7), activation='relu', border_mode = \"same\"))\n",
        "\n",
        "\n",
        "model2.add(Conv2D(64, (7, 7), activation='relu', border_mode = \"same\"))\n",
        "model2.add(MaxPooling2D(pool_size=(2, 2)))\n",
        "\n",
        "model2.add(Dropout(0.25))\n",
        "\n",
        "\n",
        "model2.add(Conv2D(256, (7, 7), activation='relu', border_mode = \"same\"))\n",
        "\n",
        "model2.add(Conv2D(128, (7, 7), activation='relu', border_mode = \"same\"))\n",
        "\n",
        "model2.add(Conv2D(128, (7, 7), activation='relu'))\n",
        "\n",
        "model2.add(MaxPooling2D(pool_size=(2, 2)))\n",
        "\n",
        "\n",
        "model2.add(Flatten())\n",
        "model2.add(Dense(128, activation='relu'))\n",
        "model2.add(Dropout(0.5))\n",
        "model2.add(Dense(num_classes, activation='softmax'))\n",
        "model2.summary()"
      ],
      "execution_count": 0,
      "outputs": [
        {
          "output_type": "stream",
          "text": [
            "_________________________________________________________________\n",
            "Layer (type)                 Output Shape              Param #   \n",
            "=================================================================\n",
            "conv2d_102 (Conv2D)          (None, 28, 28, 32)        1600      \n",
            "_________________________________________________________________\n",
            "conv2d_103 (Conv2D)          (None, 28, 28, 64)        100416    \n",
            "_________________________________________________________________\n",
            "conv2d_104 (Conv2D)          (None, 28, 28, 64)        200768    \n",
            "_________________________________________________________________\n",
            "max_pooling2d_44 (MaxPooling (None, 14, 14, 64)        0         \n",
            "_________________________________________________________________\n",
            "dropout_36 (Dropout)         (None, 14, 14, 64)        0         \n",
            "_________________________________________________________________\n",
            "conv2d_105 (Conv2D)          (None, 14, 14, 256)       803072    \n",
            "_________________________________________________________________\n",
            "conv2d_106 (Conv2D)          (None, 14, 14, 128)       1605760   \n",
            "_________________________________________________________________\n",
            "conv2d_107 (Conv2D)          (None, 8, 8, 128)         802944    \n",
            "_________________________________________________________________\n",
            "max_pooling2d_45 (MaxPooling (None, 4, 4, 128)         0         \n",
            "_________________________________________________________________\n",
            "flatten_18 (Flatten)         (None, 2048)              0         \n",
            "_________________________________________________________________\n",
            "dense_35 (Dense)             (None, 128)               262272    \n",
            "_________________________________________________________________\n",
            "dropout_37 (Dropout)         (None, 128)               0         \n",
            "_________________________________________________________________\n",
            "dense_36 (Dense)             (None, 10)                1290      \n",
            "=================================================================\n",
            "Total params: 3,778,122\n",
            "Trainable params: 3,778,122\n",
            "Non-trainable params: 0\n",
            "_________________________________________________________________\n"
          ],
          "name": "stdout"
        },
        {
          "output_type": "stream",
          "text": [
            "/usr/local/lib/python3.6/dist-packages/ipykernel_launcher.py:5: UserWarning: Update your `Conv2D` call to the Keras 2 API: `Conv2D(32, kernel_size=(7, 7), activation=\"relu\", input_shape=(28, 28, 1..., padding=\"same\")`\n",
            "  \"\"\"\n",
            "/usr/local/lib/python3.6/dist-packages/ipykernel_launcher.py:7: UserWarning: Update your `Conv2D` call to the Keras 2 API: `Conv2D(64, (7, 7), activation=\"relu\", padding=\"same\")`\n",
            "  import sys\n",
            "/usr/local/lib/python3.6/dist-packages/ipykernel_launcher.py:10: UserWarning: Update your `Conv2D` call to the Keras 2 API: `Conv2D(64, (7, 7), activation=\"relu\", padding=\"same\")`\n",
            "  # Remove the CWD from sys.path while we load stuff.\n",
            "/usr/local/lib/python3.6/dist-packages/ipykernel_launcher.py:16: UserWarning: Update your `Conv2D` call to the Keras 2 API: `Conv2D(256, (7, 7), activation=\"relu\", padding=\"same\")`\n",
            "  app.launch_new_instance()\n",
            "/usr/local/lib/python3.6/dist-packages/ipykernel_launcher.py:18: UserWarning: Update your `Conv2D` call to the Keras 2 API: `Conv2D(128, (7, 7), activation=\"relu\", padding=\"same\")`\n"
          ],
          "name": "stderr"
        }
      ]
    },
    {
      "metadata": {
        "id": "MDZM3KGRzkbw",
        "colab_type": "code",
        "outputId": "25b96a21-edcf-4fb4-98b0-d1d5543ddf23",
        "colab": {
          "base_uri": "https://localhost:8080/",
          "height": 455
        }
      },
      "cell_type": "code",
      "source": [
        "\n",
        "model2.compile(loss=keras.losses.categorical_crossentropy,\n",
        "              optimizer=keras.optimizers.Adadelta(),\n",
        "              metrics=['accuracy'])\n",
        "\n",
        "history = model1.fit(x_train, y_train,\n",
        "          batch_size=batch_size,\n",
        "          epochs=epochs,\n",
        "          verbose=1,\n",
        "          validation_data=(x_test, y_test))"
      ],
      "execution_count": 0,
      "outputs": [
        {
          "output_type": "stream",
          "text": [
            "Train on 60000 samples, validate on 10000 samples\n",
            "Epoch 1/12\n",
            "60000/60000 [==============================] - 16s 268us/step - loss: 0.0048 - acc: 0.9987 - val_loss: 0.0220 - val_acc: 0.9947\n",
            "Epoch 2/12\n",
            "60000/60000 [==============================] - 15s 253us/step - loss: 0.0054 - acc: 0.9985 - val_loss: 0.0288 - val_acc: 0.9950\n",
            "Epoch 3/12\n",
            "60000/60000 [==============================] - 15s 253us/step - loss: 0.0041 - acc: 0.9986 - val_loss: 0.0260 - val_acc: 0.9943\n",
            "Epoch 4/12\n",
            "60000/60000 [==============================] - 15s 252us/step - loss: 0.0046 - acc: 0.9988 - val_loss: 0.0255 - val_acc: 0.9950\n",
            "Epoch 5/12\n",
            "60000/60000 [==============================] - 15s 256us/step - loss: 0.0039 - acc: 0.9988 - val_loss: 0.0282 - val_acc: 0.9942\n",
            "Epoch 6/12\n",
            "60000/60000 [==============================] - 15s 258us/step - loss: 0.0032 - acc: 0.9992 - val_loss: 0.0282 - val_acc: 0.9951\n",
            "Epoch 7/12\n",
            "60000/60000 [==============================] - 15s 255us/step - loss: 0.0030 - acc: 0.9991 - val_loss: 0.0342 - val_acc: 0.9935\n",
            "Epoch 8/12\n",
            "60000/60000 [==============================] - 15s 255us/step - loss: 0.0029 - acc: 0.9992 - val_loss: 0.0334 - val_acc: 0.9949\n",
            "Epoch 9/12\n",
            "60000/60000 [==============================] - 15s 256us/step - loss: 0.0024 - acc: 0.9993 - val_loss: 0.0290 - val_acc: 0.9946\n",
            "Epoch 10/12\n",
            "60000/60000 [==============================] - 15s 257us/step - loss: 0.0023 - acc: 0.9993 - val_loss: 0.0254 - val_acc: 0.9953\n",
            "Epoch 11/12\n",
            "60000/60000 [==============================] - 15s 255us/step - loss: 0.0029 - acc: 0.9992 - val_loss: 0.0293 - val_acc: 0.9956\n",
            "Epoch 12/12\n",
            "60000/60000 [==============================] - 15s 253us/step - loss: 0.0023 - acc: 0.9994 - val_loss: 0.0305 - val_acc: 0.9948\n"
          ],
          "name": "stdout"
        }
      ]
    },
    {
      "metadata": {
        "id": "klpoi-IyziY5",
        "colab_type": "code",
        "outputId": "afa9cc79-6fc6-4997-a98e-332d3d494b6d",
        "colab": {
          "base_uri": "https://localhost:8080/",
          "height": 396
        }
      },
      "cell_type": "code",
      "source": [
        "\n",
        "score = model2.evaluate(x_test, y_test, verbose=0)\n",
        "print('Test loss:', score[0])\n",
        "print('Test accuracy:', score[1])\n",
        "\n",
        "x = list(range(1,epochs+1))\n",
        "vy = history.history['val_loss']\n",
        "ty = history.history['loss']\n",
        "\n",
        "plt.plot(x, ty, 'b', label= 'Train loss')\n",
        "plt.plot(x, vy, 'r', label= 'Val loss')\n",
        "plt.legend()\n",
        "plt.xlabel(\"Number Of Epochs\")\n",
        "plt.ylabel(\"Categorical Cross  Entrophy loss\")\n",
        "plt.show()\n"
      ],
      "execution_count": 0,
      "outputs": [
        {
          "output_type": "stream",
          "text": [
            "Test loss: 2.304127992248535\n",
            "Test accuracy: 0.0906\n"
          ],
          "name": "stdout"
        },
        {
          "output_type": "display_data",
          "data": {
            "image/png": "[encoded data removed]",
            "text/plain": [
              "<Figure size 576x396 with 1 Axes>"
            ]
          },
          "metadata": {
            "tags": []
          }
        }
      ]
    },
    {
      "metadata": {
        "id": "rBG9In1_yrpz",
        "colab_type": "code",
        "colab": {}
      },
      "cell_type": "code",
      "source": [
        "tableData.add_row([\"7\", \"(7,7)\", score[1]])"
      ],
      "execution_count": 0,
      "outputs": []
    },
    {
      "metadata": {
        "id": "PshCFtD31kGR",
        "colab_type": "text"
      },
      "cell_type": "markdown",
      "source": [
        "# Obsevation"
      ]
    },
    {
      "metadata": {
        "id": "jd63IcQa1fwX",
        "colab_type": "code",
        "outputId": "2feb19bd-469f-43af-8be7-0befad0a8a56",
        "colab": {
          "base_uri": "https://localhost:8080/",
          "height": 140
        }
      },
      "cell_type": "code",
      "source": [
        "print(tableData)"
      ],
      "execution_count": 0,
      "outputs": [
        {
          "output_type": "stream",
          "text": [
            "+--------+-------+----------+\n",
            "| Layers | Con2d | Accuracy |\n",
            "+--------+-------+----------+\n",
            "|   3    | (3,3) |  0.9952  |\n",
            "|   5    | (5,5) |  0.9953  |\n",
            "|   7    | (7,7) |  0.0906  |\n",
            "+--------+-------+----------+\n"
          ],
          "name": "stdout"
        }
      ]
    },
    {
      "metadata": {
        "id": "2pzSkevf1pSX",
        "colab_type": "text"
      },
      "cell_type": "markdown",
      "source": [
        "# Conclusion\n",
        "1. convolution layer with 3 layers and convolution of (3,3) and convolution layer with 5 layers and convolution of (5,5)\n",
        "have performed very well with an accuracy close to 1\n",
        "\n",
        "2. convolution layer with  7 layers and convolution of (7,7) performed very worst "
      ]
    }
  ]
}